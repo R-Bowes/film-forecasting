{
 "cells": [
  {
   "cell_type": "markdown",
   "metadata": {},
   "source": [
    "# Film Forecasting: Data Exploration\n",
    "\n",
    "This notebook loads and inspects the initial datasets."
   ]
  },
  {
   "cell_type": "code",
   "execution_count": null,
   "metadata": {},
   "outputs": [],
   "source": [
    "import pandas as pd\n",
    "import matplotlib.pyplot as plt\n",
    "import seaborn as sns\n",
    "\n",
    "pd.set_option('display.max_columns', None)\n",
    "sns.set(style='whitegrid')"
   ]
  },
  {
   "cell_type": "code",
   "execution_count": null,
   "metadata": {},
   "outputs": [],
   "source": [
    "# Load datasets\n",
    "metadata = pd.read_csv(\"../data/film_metadata.csv\")\n",
    "marketing = pd.read_csv(\"../data/marketing_data.csv\")\n",
    "scores = pd.read_csv(\"../data/scores_data.csv\")\n",
    "forecast = pd.read_csv(\"../data/forecast_model.csv\")"
   ]
  },
  {
   "cell_type": "code",
   "execution_count": null,
   "metadata": {},
   "outputs": [],
   "source": [
    "# Preview each dataset\n",
    "print(\"Metadata:\")\n",
    "display(metadata.head())\n",
    "\n",
    "print(\"Marketing Data:\")\n",
    "display(marketing.head())\n",
    "\n",
    "print(\"Scores:\")\n",
    "display(scores.head())\n",
    "\n",
    "print(\"Forecast Model:\")\n",
    "display(forecast.head())"
   ]
  }
 ],
 "metadata": {
  "kernelspec": {
   "display_name": "Python 3",
   "language": "python",
   "name": "python3"
  },
  "language_info": {
   "name": "python"
  }
 },
 "nbformat": 4,
 "nbformat_minor": 2
}
